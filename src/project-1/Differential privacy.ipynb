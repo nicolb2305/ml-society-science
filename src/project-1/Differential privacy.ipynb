{
 "cells": [
  {
   "cell_type": "code",
   "execution_count": 1,
   "metadata": {},
   "outputs": [],
   "source": [
    "import pandas\n",
    "import numpy as np\n",
    "\n",
    "## Set up for dataset\n",
    "features = ['checking account balance', 'duration', 'credit history',\n",
    "            'purpose', 'amount', 'savings', 'employment', 'installment',\n",
    "            'marital status', 'other debtors', 'residence time',\n",
    "            'property', 'age', 'other installments', 'housing', 'credits',\n",
    "            'job', 'persons', 'phone', 'foreign']\n",
    "target = 'repaid'\n",
    "df = pandas.read_csv('../../data/credit/german.data', sep=' ',\n",
    "                     names=features+[target])\n",
    "import matplotlib.pyplot as plt\n",
    "numerical_features = ['duration', 'age', 'residence time', 'installment', 'amount', 'duration', 'persons', 'credits']\n",
    "quantitative_features = list(filter(lambda x: x not in numerical_features, features))\n",
    "X = pandas.get_dummies(df, columns=quantitative_features, drop_first=True)\n",
    "encoded_features = list(filter(lambda x: x != target, X.columns))\n",
    "\n",
    "\n",
    "## Test function\n",
    "def test_decision_maker(X_test, y_test, interest_rate, decision_maker):\n",
    "    n_test_examples = len(X_test)\n",
    "    utility = 0\n",
    "\n",
    "    ## Example test function - this is only an unbiased test if the data has not been seen in training\n",
    "    for t in range(n_test_examples):\n",
    "        action = decision_maker.get_best_action(X_test.iloc[t])\n",
    "        good_loan = y_test.iloc[t] # assume the labels are correct\n",
    "        duration = X_test['duration'].iloc[t]\n",
    "        amount = X_test['amount'].iloc[t]\n",
    "        # If we don't grant the loan then nothing happens\n",
    "        if (action==1):\n",
    "            if (good_loan != 1):\n",
    "                utility -= amount\n",
    "            else:\n",
    "                utility += amount*(pow(1 + interest_rate, duration) - 1)\n",
    "    return utility"
   ]
  },
  {
   "cell_type": "code",
   "execution_count": 2,
   "metadata": {},
   "outputs": [
    {
     "name": "stdout",
     "output_type": "stream",
     "text": [
      "Epsilon: 10\n",
      "Average utility: -2215.370966283067\n",
      "Standard deviation: 5568.807401860468\n",
      "Epsilon: 25\n",
      "Average utility: -3281.643498126649\n",
      "Standard deviation: 4132.390670722679\n",
      "Epsilon: 35\n",
      "Average utility: 278.2419609073815\n",
      "Standard deviation: 3608.7779627832415\n",
      "Epsilon: 50\n",
      "Average utility: 173.02695050351855\n",
      "Standard deviation: 3984.4679901697573\n",
      "Epsilon: 75\n",
      "Average utility: 828.2276953686147\n",
      "Standard deviation: 6057.425424490574\n",
      "Epsilon: 100\n",
      "Average utility: 3641.2979438633324\n",
      "Standard deviation: 3125.4588890761315\n",
      "Epsilon: None\n",
      "Average utility: 4076.377041480875\n",
      "Standard deviation: 4237.9681620813135\n"
     ]
    }
   ],
   "source": [
    "import nicolabk_kaiie_banker\n",
    "for epsilon in [10, 25, 35, 50, 75, 100, None]:\n",
    "    decision_maker = nicolabk_kaiie_banker.Nicolabk_Kaiie_Banker(epsilon=epsilon)\n",
    "\n",
    "    interest_rate = 0.005\n",
    "\n",
    "    ### Do a number of preliminary tests by splitting the data in parts\n",
    "    from sklearn.model_selection import train_test_split\n",
    "    n_tests = 10\n",
    "    utility = []\n",
    "    for iter in range(n_tests):\n",
    "        X_train, X_test, y_train, y_test = train_test_split(X[encoded_features], X[target], test_size=0.2)\n",
    "        decision_maker.set_interest_rate(interest_rate)\n",
    "        decision_maker.fit(X_train, y_train)\n",
    "        utility.append(test_decision_maker(X_test, y_test, interest_rate, decision_maker))\n",
    "        print(iter, end='\\r')\n",
    "    print(f'Epsilon: {epsilon}')\n",
    "    print(f'Average utility: {sum(utility) / n_tests}')\n",
    "    print(f'Standard deviation: {np.std(utility)}')"
   ]
  }
 ],
 "metadata": {
  "kernelspec": {
   "display_name": "Python 3",
   "language": "python",
   "name": "python3"
  },
  "language_info": {
   "codemirror_mode": {
    "name": "ipython",
    "version": 3
   },
   "file_extension": ".py",
   "mimetype": "text/x-python",
   "name": "python",
   "nbconvert_exporter": "python",
   "pygments_lexer": "ipython3",
   "version": "3.6.8"
  }
 },
 "nbformat": 4,
 "nbformat_minor": 2
}
