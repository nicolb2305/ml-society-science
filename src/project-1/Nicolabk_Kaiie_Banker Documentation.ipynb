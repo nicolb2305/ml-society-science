{
 "cells": [
  {
   "cell_type": "code",
   "execution_count": 10,
   "metadata": {},
   "outputs": [],
   "source": [
    "from banker import BankerBase, run\n",
    "from sklearn.ensemble import RandomForestClassifier\n",
    "import pandas\n",
    "import random\n",
    "from sklearn.model_selection import cross_val_score\n",
    "import numpy as np\n",
    "import jdc"
   ]
  },
  {
   "cell_type": "markdown",
   "metadata": {},
   "source": [
    "# Nicolabk_Kaiie_Banker Class"
   ]
  },
  {
   "cell_type": "code",
   "execution_count": 11,
   "metadata": {},
   "outputs": [],
   "source": [
    "class Nicolabk_Kaiie_Banker(BankerBase):\n",
    "    def __init__(self, interest_rate=0.005, epsilon=None):\n",
    "        self.interest_rate = interest_rate\n",
    "        if epsilon:\n",
    "            self.epsilon = epsilon/20\n",
    "        else:\n",
    "            self.epsilon = epsilon"
   ]
  },
  {
   "cell_type": "markdown",
   "metadata": {},
   "source": [
    "Class takes in optional `interest_rate` which can be redefined in `set_interest_rate()` and `epsilon` which if defined makes new predictions differentially private. We divide epsilon by 20 to account for the fact that we have 20 categories in the data set."
   ]
  },
  {
   "cell_type": "code",
   "execution_count": 13,
   "metadata": {},
   "outputs": [],
   "source": [
    "%%add_to Nicolabk_Kaiie_Banker\n",
    "def set_interest_rate(self, interest_rate):\n",
    "    self.interest_rate = interest_rate"
   ]
  },
  {
   "cell_type": "markdown",
   "metadata": {},
   "source": [
    "Allows redefinition of the `interest_rate`."
   ]
  },
  {
   "cell_type": "code",
   "execution_count": 14,
   "metadata": {},
   "outputs": [],
   "source": [
    "%%add_to Nicolabk_Kaiie_Banker\n",
    "def fit(self, X, y):\n",
    "    n_estimators = range(50, 125, 25)\n",
    "    clfs = [RandomForestClassifier(n_estimators=n) for n in n_estimators]\n",
    "    scores = [np.mean(cross_val_score(clf, X, y, cv=10, scoring=self.utility_scoring, n_jobs=-1)) for clf in clfs]\n",
    "    best_n = n_estimators[np.argmax(np.array(scores))]\n",
    "    self.classifier = RandomForestClassifier(n_estimators=best_n, n_jobs=-1)\n",
    "    if self.epsilon:\n",
    "        self.sensitivity = {}\n",
    "        for column in X.columns[X.dtypes == 'int64']:\n",
    "            self.sensitivity[column] = X[column].max()-X[column].min()\n",
    "    self.classifier.fit(X, y)"
   ]
  },
  {
   "cell_type": "markdown",
   "metadata": {},
   "source": [
    "Calculates optimal `n_estimators` hyper-parameter for `RandomForestClassifier` using a 10-fold cross-validation. \n",
    "Also calculates the sensitivity of the numerical variables if `epsilon` is defined, and saves it in `self.sensitivity` for later use when predicting."
   ]
  },
  {
   "cell_type": "code",
   "execution_count": 16,
   "metadata": {},
   "outputs": [],
   "source": [
    "%%add_to Nicolabk_Kaiie_Banker\n",
    "def expected_utility(self, X):\n",
    "    pr_1, pr_2 = self.predict_proba(X).T\n",
    "    U_1 = X['amount']*( (1+self.interest_rate)**X['duration'] - 1)\n",
    "    U_2 = -X['amount']\n",
    "    return pr_1*U_1 + pr_2*U_2"
   ]
  },
  {
   "cell_type": "markdown",
   "metadata": {},
   "source": [
    "Calculates the expected utility (money earned) given `X`.\n",
    "\n",
    "Calls `predict_proba()` to calculate our predicted probabilities of the getting repaid or defaulted, then uses these values to calculate the expected money earned."
   ]
  },
  {
   "cell_type": "code",
   "execution_count": 17,
   "metadata": {},
   "outputs": [],
   "source": [
    "%%add_to Nicolabk_Kaiie_Banker\n",
    "def predict_proba(self, X):\n",
    "    if isinstance(X, pandas.core.series.Series):\n",
    "        X_copy = X.copy().to_frame().transpose()\n",
    "    else:\n",
    "        X_copy = X.copy()\n",
    "\n",
    "    if self.epsilon:\n",
    "        X_copy = self._privacy(X_copy)\n",
    "    return self.classifier.predict_proba(X_copy)"
   ]
  },
  {
   "cell_type": "markdown",
   "metadata": {},
   "source": [
    "Returns 2 values, the probability of the loan being repaid, and the probability of it getting defaulted.\n",
    "\n",
    "Converts `X` to a `pandas.DataFrame` if it is a `pandas.Series` to remain compatible with both Christos Dimitrakakis' and Dirk Hesse's code.\n",
    "Calls `_privacy()` on `X` if epsilon is defined, then calls our classifier's (`RandomForestClassifier`) `predict_proba()`."
   ]
  },
  {
   "cell_type": "code",
   "execution_count": 18,
   "metadata": {},
   "outputs": [],
   "source": [
    "%%add_to Nicolabk_Kaiie_Banker\n",
    "def get_best_action(self, X):\n",
    "    if isinstance(X, pandas.core.series.Series):\n",
    "        for exp_utility in self.expected_utility(X):\n",
    "            if exp_utility > 0:\n",
    "                return 1\n",
    "            else:\n",
    "                return 2\n",
    "    else:\n",
    "        actions = []\n",
    "        for exp_utility in self.expected_utility(X):\n",
    "            if exp_utility > 0:\n",
    "                actions.append(1)\n",
    "            else:\n",
    "                actions.append(2)\n",
    "    return pandas.Series(actions, index = X.index)"
   ]
  },
  {
   "cell_type": "markdown",
   "metadata": {},
   "source": [
    "If `X` is a `pandas.Series` we call `expected_utility()` and grant a loan if we expect to earn money. If `X` is a `pandas.DataFrame` we return a `pandas.Series` of decisions with matching indecies to `X`."
   ]
  },
  {
   "cell_type": "markdown",
   "metadata": {},
   "source": [
    "## Helper functions"
   ]
  },
  {
   "cell_type": "code",
   "execution_count": 19,
   "metadata": {},
   "outputs": [],
   "source": [
    "%%add_to Nicolabk_Kaiie_Banker\n",
    "def _utility_scoring(self, estimator, X, y):\n",
    "    estimator.fit(X, y)\n",
    "    pr_1, pr_2 = estimator.predict_proba(X).T\n",
    "    U_1 = X['amount']*( (1+self.interest_rate)**X['duration'] - 1)\n",
    "    U_2 = -X['amount']\n",
    "    return sum(pr_1*U_1 + pr_2*U_2)"
   ]
  },
  {
   "cell_type": "markdown",
   "metadata": {},
   "source": [
    "Used in `cross_val_score()` in `fit()` to score the models for different hyper-paramterers."
   ]
  },
  {
   "cell_type": "code",
   "execution_count": 20,
   "metadata": {},
   "outputs": [],
   "source": [
    "%%add_to Nicolabk_Kaiie_Banker\n",
    "def _privacy(self, X):\n",
    "    X_private = X.copy()\n",
    "    for column in self.sensitivity:\n",
    "        self._laplace_mechanism(X_private[column], self.sensitivity[column])\n",
    "    cat_col = sorted(list(set(X.columns) - set(self.sensitivity.keys())))\n",
    "    cat_grouped = []\n",
    "    prev = \"\"\n",
    "    for cat in cat_col:\n",
    "        split = cat.split('_')[0]\n",
    "        if split == prev:\n",
    "            cat_grouped[-1].append(cat)\n",
    "        else:\n",
    "            cat_grouped.append([cat])\n",
    "        prev = split\n",
    "\n",
    "    for cat in cat_grouped:\n",
    "        self._exponential(X_private, cat)\n",
    "    return X_private"
   ]
  },
  {
   "cell_type": "markdown",
   "metadata": {},
   "source": [
    "Makes `X` differentially private with epsilon = `self.epsilon`.\n",
    "\n",
    "Calls `_laplace_mechanism()` on numerical columns using the sensitivities calculated during the fit. Groups the categorical one-hot encoded columns together and calls `_exponential()` on them."
   ]
  },
  {
   "cell_type": "code",
   "execution_count": 21,
   "metadata": {},
   "outputs": [],
   "source": [
    "%%add_to Nicolabk_Kaiie_Banker\n",
    "def _exponential(self, X, category):\n",
    "    quality = np.zeros(len(category)+1)\n",
    "    for i in range(len(category)):\n",
    "        if X[category[i]].iloc[0] == 1:\n",
    "            quality[i+1] = 1\n",
    "            X[category[i]].iloc[0] = 0\n",
    "            break\n",
    "\n",
    "    if np.count_nonzero(quality) == 0:\n",
    "        quality[0] = 1\n",
    "\n",
    "    pr_cat = np.exp(self.epsilon*quality)/sum(np.exp(self.epsilon*quality))\n",
    "    choice = np.random.choice(['filler'] + category, p=pr_cat)\n",
    "    if choice != 'filler':\n",
    "        X[choice] = 1"
   ]
  },
  {
   "cell_type": "markdown",
   "metadata": {},
   "source": [
    "Uses the exponential mechanism to make the categorical variables of `X` differentially private.\n",
    "\n",
    "Defines the quality function by checking which column has a 1 for the given category and if none of them have a 1 we know the first value which is not included in the one-hot encoding is the real value. Calculate probabilities using the exponential mechanism, then we do a random choice between the columns given the probabilities."
   ]
  },
  {
   "cell_type": "code",
   "execution_count": 22,
   "metadata": {},
   "outputs": [],
   "source": [
    "%%add_to Nicolabk_Kaiie_Banker\n",
    "def _laplace_mechanism(self, X, sensitivity):\n",
    "    noise = np.random.laplace(scale=sensitivity/self.epsilon, size=X.size)\n",
    "    X += noise"
   ]
  },
  {
   "cell_type": "markdown",
   "metadata": {},
   "source": [
    "Uses the laplace mechanism to add laplace noise to `X` scaled with the `sensitivity` and `self.epsilon`"
   ]
  },
  {
   "cell_type": "code",
   "execution_count": null,
   "metadata": {},
   "outputs": [],
   "source": []
  }
 ],
 "metadata": {
  "kernelspec": {
   "display_name": "Python 3",
   "language": "python",
   "name": "python3"
  },
  "language_info": {
   "codemirror_mode": {
    "name": "ipython",
    "version": 3
   },
   "file_extension": ".py",
   "mimetype": "text/x-python",
   "name": "python",
   "nbconvert_exporter": "python",
   "pygments_lexer": "ipython3",
   "version": "3.6.8"
  }
 },
 "nbformat": 4,
 "nbformat_minor": 2
}
