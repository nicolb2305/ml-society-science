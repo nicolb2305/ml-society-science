{
 "cells": [
  {
   "cell_type": "code",
   "execution_count": 1,
   "metadata": {},
   "outputs": [],
   "source": [
    "import pandas\n",
    "from banker import run\n",
    "from bankers.randomforestbanker import RandomForestBanker\n",
    "from bankers.logisticbanker import LogisticBanker\n",
    "from bankers.kneighborsbanker import KNeighborsBanker\n",
    "from bankers.randombanker import RandomBanker\n",
    "from bankers.yesbanker import YesBanker"
   ]
  },
  {
   "cell_type": "code",
   "execution_count": 2,
   "metadata": {},
   "outputs": [],
   "source": [
    "features = ['checking account balance', 'duration', 'credit history',\n",
    "            'purpose', 'amount', 'savings', 'employment', 'installment',\n",
    "            'marital status', 'other debtors', 'residence time',\n",
    "            'property', 'age', 'other installments', 'housing', 'credits',\n",
    "            'job', 'persons', 'phone', 'foreign']\n",
    "target = 'repaid'\n",
    "df = pandas.read_csv('../../data/credit/german.data', sep=' ',\n",
    "                     names=features+[target])\n",
    "import matplotlib.pyplot as plt\n",
    "numerical_features = ['duration', 'age', 'residence time', 'installment', 'amount', 'duration', 'persons', 'credits']\n",
    "quantitative_features = list(filter(lambda x: x not in numerical_features, features))\n",
    "X = pandas.get_dummies(df, columns=quantitative_features, drop_first=True)\n",
    "encoded_features = list(filter(lambda x: x != target, X.columns))\n",
    "\n",
    "## Test function\n",
    "def test_decision_maker(X_test, y_test, interest_rate, decision_maker):\n",
    "    action = decision_maker.get_best_action(X_test)\n",
    "    loss = X_test['amount']\n",
    "    gain = X_test['amount']*((1 + interest_rate)**(X_test['duration']) - 1)\n",
    "    utility = sum(gain[((action == 1) & (y_test == 1))]) - sum(loss[((action == 1) & (y_test == 2))])\n",
    "    return utility"
   ]
  },
  {
   "cell_type": "code",
   "execution_count": 3,
   "metadata": {},
   "outputs": [],
   "source": [
    "def model_check(X, decision_maker, interest_rate):\n",
    "    from sklearn.model_selection import train_test_split\n",
    "    n_tests = 100\n",
    "    utility = 0\n",
    "    for iter in range(n_tests):\n",
    "        print(iter, end=\"%\\r\")\n",
    "        X_train, X_test, y_train, y_test = train_test_split(X[encoded_features], X[target], test_size=0.2)\n",
    "        decision_maker.fit(X_train, y_train)\n",
    "        utility += test_decision_maker(X_test, y_test, interest_rate, decision_maker)\n",
    "    print(utility / n_tests)"
   ]
  },
  {
   "cell_type": "code",
   "execution_count": 4,
   "metadata": {},
   "outputs": [
    {
     "name": "stdout",
     "output_type": "stream",
     "text": [
      "RandomBanker: \n",
      "-93907.17059919944\n",
      "YesBanker: \n",
      "-178966.71787845046\n",
      "LogisticBanker: \n",
      "4438.293373158159\n",
      "KNeighborsBanker with k=1:\n",
      "-77746.61194827217\n",
      "KNeighborsBanker with k=5:\n",
      "-9452.153891927639\n",
      "KNeighborsBanker with k=15:\n",
      "2153.596787354184\n",
      "KNeighborsBanker with k=25:\n",
      "1943.2497813399598\n",
      "KNeighborsBanker with k=35:\n",
      "1723.0386889898793\n",
      "RandomForestBanker with estimators=25:\n",
      "4825.266649094837\n",
      "RandomForestBanker with estimators=50:\n",
      "5795.888514158417\n",
      "RandomForestBanker with estimators=75:\n",
      "5531.171435339596\n",
      "RandomForestBanker with estimators=100:\n",
      "5273.536161495547\n",
      "RandomForestBanker with estimators=125:\n",
      "5754.232970240754\n",
      "RandomForestBanker with estimators=150:\n",
      "5919.517108775044\n"
     ]
    }
   ],
   "source": [
    "interest_rate = 0.005\n",
    "\n",
    "print(\"RandomBanker: \")\n",
    "model_check(X,\n",
    "            RandomBanker(interest_rate=interest_rate),\n",
    "            interest_rate=interest_rate)\n",
    "\n",
    "print(\"YesBanker: \")\n",
    "model_check(X,\n",
    "            YesBanker(interest_rate=interest_rate),\n",
    "            interest_rate=interest_rate)\n",
    "\n",
    "print(\"LogisticBanker: \")\n",
    "model_check(X,\n",
    "            LogisticBanker(interest_rate=interest_rate),\n",
    "            interest_rate=interest_rate)\n",
    "\n",
    "for k in [1, 5, 15, 25, 35]:\n",
    "    print(f\"KNeighborsBanker with k={k}:\")\n",
    "    model_check(X,\n",
    "                KNeighborsBanker(interest_rate=interest_rate, k=k),\n",
    "                interest_rate=interest_rate)\n",
    "\n",
    "for n in range(25, 151, 25):\n",
    "    print(f\"RandomForestBanker with estimators={n}:\")\n",
    "    model_check(X,\n",
    "                RandomForestBanker(interest_rate=interest_rate, n_estimators=n),\n",
    "                interest_rate=interest_rate)"
   ]
  },
  {
   "cell_type": "code",
   "execution_count": 5,
   "metadata": {},
   "outputs": [
    {
     "name": "stdout",
     "output_type": "stream",
     "text": [
      "RandomForestBanker (594.6725331071639, 1240.7540590972114)\n",
      "LogisticBanker (501.32402229703456, 2796.1105655138745)\n",
      "KNeighborsBanker (226.19090214905282, 595.6521694875348)\n",
      "RandomBanker (-7056.4158900215525, 11852.850343165503)\n",
      "YesBanker (-17924.25071484847, 13642.810814722221)\n"
     ]
    }
   ],
   "source": [
    "# n_estimators = 100 and k = 15 by default\n",
    "run()"
   ]
  },
  {
   "cell_type": "markdown",
   "metadata": {},
   "source": [
    "We get the best results with `RandomForestBanker` using both `TestLending.py` and `banker.py`. `KNeighborsBanker` standardizes the variables."
   ]
  }
 ],
 "metadata": {
  "kernelspec": {
   "display_name": "Python 3",
   "language": "python",
   "name": "python3"
  },
  "language_info": {
   "codemirror_mode": {
    "name": "ipython",
    "version": 3
   },
   "file_extension": ".py",
   "mimetype": "text/x-python",
   "name": "python",
   "nbconvert_exporter": "python",
   "pygments_lexer": "ipython3",
   "version": "3.6.8"
  }
 },
 "nbformat": 4,
 "nbformat_minor": 2
}
