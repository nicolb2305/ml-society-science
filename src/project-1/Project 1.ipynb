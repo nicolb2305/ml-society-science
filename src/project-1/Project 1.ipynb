{
 "cells": [
  {
   "cell_type": "markdown",
   "metadata": {},
   "source": [
    "# Project 1 - Credit risk for mortages"
   ]
  },
  {
   "cell_type": "markdown",
   "metadata": {},
   "source": [
    "##  2.1.1"
   ]
  },
  {
   "cell_type": "markdown",
   "metadata": {},
   "source": [
    "We wish to make a model that decides whether or not to grant a loan to an individual based on relevant data, our goal is to maximize profit. Our utility function is defined as:\n",
    "\n",
    "| Utility | Grant loan ($a_1$) | Don't grant loan ($a_2$) |\n",
    "|----------------|-------------|------------------|\n",
    "| Loan repaid ($\\omega_1$)    | $m((1+r)^n-1)$       | 0                |\n",
    "| Loan defaulted ($\\omega_2$) | $-m$                 | 0                |\n",
    "\n",
    "Thus our expected utility function is defined as our predicted probability of the person repaying the loan times the return on investment, minus our predicted probability that the person will default on the loan times the investment.\n",
    "\n",
    "$$E(U|\\textrm{Grant loan}) = P(\\omega_1)\\cdot m((1+r)^n - 1) + P(\\omega_2)\\cdot (-m),$$\n",
    "$$E(U|\\textrm{Don't grant loan}) = 0$$"
   ]
  },
  {
   "cell_type": "code",
   "execution_count": 1,
   "metadata": {},
   "outputs": [],
   "source": [
    "def expected_utility(self, X):\n",
    "    pr_1, pr_2 = self.predict_proba(X).T\n",
    "    U_1 = X['amount']*( (1+self.interest_rate)**X['duration'] - 1)\n",
    "    U_2 = -X['amount']\n",
    "    return pr_1*U_1 + pr_2*U_2"
   ]
  },
  {
   "cell_type": "markdown",
   "metadata": {},
   "source": [
    "We grant a loan when:\n",
    "$$E(U|\\textrm{Grant loan}) > E(U|\\textrm{Don't grant loan})$$\n",
    "\n",
    "We considered different models for predicting the probability, and made our final decision later in the process."
   ]
  },
  {
   "cell_type": "markdown",
   "metadata": {},
   "source": [
    "## 2.1.2"
   ]
  },
  {
   "cell_type": "markdown",
   "metadata": {},
   "source": [
    "We implemented `́NameBanker.fit()` and `NameBanker.predict_proba()` by calling on our classifiers own `fit()` and `predict_proba()` functions."
   ]
  },
  {
   "cell_type": "code",
   "execution_count": 2,
   "metadata": {},
   "outputs": [],
   "source": [
    "def fit(self, X, y):\n",
    "    self.classifier = RandomForestClassifier(n_estimators=self.n_estimators)\n",
    "    self.classifier.fit(X, y)\n",
    "\n",
    "def predict_proba(self, X):\n",
    "    return self.classifier.predict_proba(X.to_frame().transpose())"
   ]
  },
  {
   "cell_type": "markdown",
   "metadata": {},
   "source": [
    "For our `KNearestNeighborsBanker` we standardized all the non-categorical features before fitting the data, and before making new predictions."
   ]
  },
  {
   "cell_type": "markdown",
   "metadata": {},
   "source": [
    "## 2.1.3"
   ]
  },
  {
   "cell_type": "markdown",
   "metadata": {},
   "source": [
    "As noted earlier we grant a loan if\n",
    "$$E(U|\\textrm{Grant loan}) > E(U|\\textrm{Don't grant loan})$$\n",
    "otherwise we don't grant the loan."
   ]
  },
  {
   "cell_type": "code",
   "execution_count": 3,
   "metadata": {},
   "outputs": [],
   "source": [
    "def get_best_action(self, X):\n",
    "    for exp_utility in self.expected_utility(X):\n",
    "        if exp_utility > 0:\n",
    "            return 1\n",
    "        else:\n",
    "            return 2"
   ]
  },
  {
   "cell_type": "markdown",
   "metadata": {},
   "source": [
    "## 2.1.4"
   ]
  },
  {
   "cell_type": "markdown",
   "metadata": {},
   "source": [
    "For model selection we tried different classifiers for comparison; KNearestNeighbors, LogisticRegression and RandomForest, with varying hyperparameters, and we also compared their performance to the RandomBanker (grants loans randomly) and the YesBanker (always grants loans). We kept the original interest rate of 0.5% per month as with the new rate of 5% the YesBanker was one of the best performing models and even the RandomBanker was profitting. We felt it made little sense to optimize for an unrealistically high interest rate."
   ]
  },
  {
   "cell_type": "code",
   "execution_count": 1,
   "metadata": {},
   "outputs": [],
   "source": [
    "# Slightly modified TestLending.py so it runs faster and we can call the\n",
    "# model checking as a function model_check\n",
    "from TestLending import X, model_check\n",
    "from banker import run\n",
    "from randomforestbanker import RandomForestBanker\n",
    "from logisticbanker import LogisticBanker\n",
    "from kneighborsbanker import KNeighborsBanker\n",
    "from randombanker import RandomBanker\n",
    "from yesbanker import YesBanker"
   ]
  },
  {
   "cell_type": "code",
   "execution_count": 2,
   "metadata": {},
   "outputs": [
    {
     "name": "stdout",
     "output_type": "stream",
     "text": [
      "RandomBanker: \n",
      "-101094.87977796681\n",
      "YesBanker: \n",
      "-183481.48531310007\n",
      "LogisticBanker: \n",
      "5402.441832063978\n",
      "KNeighborsBanker with k=1:\n",
      "-105561.42891528284\n",
      "KNeighborsBanker with k=5:\n",
      "-27201.04033618056\n",
      "KNeighborsBanker with k=15:\n",
      "-8426.810873055567\n",
      "KNeighborsBanker with k=25:\n",
      "-3267.789958120485\n",
      "KNeighborsBanker with k=35:\n",
      "-1614.665685385079\n",
      "RandomForestBanker with estimators=25:\n",
      "3781.32128916494\n",
      "RandomForestBanker with estimators=50:\n",
      "5084.396434927892\n",
      "RandomForestBanker with estimators=75:\n",
      "6150.781219333917\n",
      "RandomForestBanker with estimators=100:\n",
      "6003.25565680178\n",
      "RandomForestBanker with estimators=125:\n",
      "6238.063310505793\n",
      "RandomForestBanker with estimators=150:\n",
      "5803.069072435341\n"
     ]
    }
   ],
   "source": [
    "interest_rate = 0.005\n",
    "\n",
    "print(\"RandomBanker: \")\n",
    "model_check(X,\n",
    "            RandomBanker(interest_rate=interest_rate),\n",
    "            interest_rate=interest_rate)\n",
    "\n",
    "print(\"YesBanker: \")\n",
    "model_check(X,\n",
    "            YesBanker(interest_rate=interest_rate),\n",
    "            interest_rate=interest_rate)\n",
    "\n",
    "print(\"LogisticBanker: \")\n",
    "model_check(X,\n",
    "            LogisticBanker(interest_rate=interest_rate),\n",
    "            interest_rate=interest_rate)\n",
    "\n",
    "for k in [1, 5, 15, 25, 35]:\n",
    "    print(f\"KNeighborsBanker with k={k}:\")\n",
    "    model_check(X,\n",
    "                KNeighborsBanker(interest_rate=interest_rate, k=k),\n",
    "                interest_rate=interest_rate)\n",
    "\n",
    "for n in range(25, 151, 25):\n",
    "    print(f\"RandomForestBanker with estimators={n}:\")\n",
    "    model_check(X,\n",
    "                RandomForestBanker(interest_rate=interest_rate, n_estimators=n),\n",
    "                interest_rate=interest_rate)"
   ]
  },
  {
   "cell_type": "code",
   "execution_count": 3,
   "metadata": {},
   "outputs": [
    {
     "name": "stdout",
     "output_type": "stream",
     "text": [
      "RandomForestBanker (581.3633305063215, 1292.6421177905368)\n",
      "LogisticBanker (433.97574560359425, 2783.9969836057344)\n",
      "KNeighborsBanker (96.85603287170403, 1938.901379761263)\n",
      "RandomBanker (-9260.304286101706, 11830.89580573957)\n",
      "YesBanker (-17924.250714848473, 11782.002412033245)\n"
     ]
    }
   ],
   "source": [
    "# n_estimators = 100 and k = 15 by default\n",
    "run()"
   ]
  },
  {
   "cell_type": "markdown",
   "metadata": {},
   "source": [
    "From these results we would pick `RandomForestBanker` with an `n_estimators` somewhere between 75 and 150. With Hesse's `banker.py` program we can see that `RandomForestBanker` has both the highest utility and the lowest standard deviation of all the bankers. However, we have not used a separate test set to evaluate the final performance of our model, which we should do as we are using the test results to do a final model selection."
   ]
  },
  {
   "cell_type": "markdown",
   "metadata": {},
   "source": [
    "We made all our bankers compatible with both Dimitrakakis' `TestLending.py` and Hesse's `banker.py`. However, in this notebook we used a modified version of `TestLending.py` that runs faster and put the main program in a function `model_check()` with no functional differences from the original.\n",
    "\n",
    "For some reason `KNeighborsBanker` performs way worse on `TestLending.py` than on `banker.py` and we could not figure out why, but all the other models performed similarily between the programs."
   ]
  }
 ],
 "metadata": {
  "kernelspec": {
   "display_name": "Python 3",
   "language": "python",
   "name": "python3"
  },
  "language_info": {
   "codemirror_mode": {
    "name": "ipython",
    "version": 3
   },
   "file_extension": ".py",
   "mimetype": "text/x-python",
   "name": "python",
   "nbconvert_exporter": "python",
   "pygments_lexer": "ipython3",
   "version": "3.6.8"
  }
 },
 "nbformat": 4,
 "nbformat_minor": 2
}
