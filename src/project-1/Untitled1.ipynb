{
 "cells": [
  {
   "cell_type": "code",
   "execution_count": 1,
   "metadata": {},
   "outputs": [],
   "source": [
    "from TestLending import X, model_check\n",
    "from banker import run, get_average_utility\n",
    "#from randomforestbanker import RandomForestBanker\n",
    "#from logisticbanker import LogisticBanker\n",
    "from kneighborsbanker import KNeighborsBanker\n",
    "#from randombanker import RandomBanker"
   ]
  },
  {
   "cell_type": "code",
   "execution_count": null,
   "metadata": {},
   "outputs": [
    {
     "name": "stdout",
     "output_type": "stream",
     "text": [
      "KNeighborsBanker 5\n",
      "0\r"
     ]
    }
   ],
   "source": [
    "for interest_rate in [0.005, 0.01, 0.025, 0.05]:\n",
    "    for k in [5, 10, 15, 25]:\n",
    "        print(\"KNeighborsBanker\", k)\n",
    "        model_check(X,\n",
    "                    KNeighborsBanker(interest_rate=interest_rate, k=k),\n",
    "                    interest_rate=interest_rate)\n",
    "    for n in range(25, 151, 25):\n",
    "        print(\"RandomForestBanker\", n)\n",
    "        model_check(X,\n",
    "                    RandomForestBanker(interest_rate=interest_rate, n_estimators=n),\n",
    "                    interest_rate=interest_rate)"
   ]
  },
  {
   "cell_type": "raw",
   "metadata": {},
   "source": []
  },
  {
   "cell_type": "code",
   "execution_count": null,
   "metadata": {},
   "outputs": [],
   "source": [
    "run()"
   ]
  },
  {
   "cell_type": "code",
   "execution_count": null,
   "metadata": {},
   "outputs": [],
   "source": []
  }
 ],
 "metadata": {
  "kernelspec": {
   "display_name": "Python 3",
   "language": "python",
   "name": "python3"
  },
  "language_info": {
   "codemirror_mode": {
    "name": "ipython",
    "version": 3
   },
   "file_extension": ".py",
   "mimetype": "text/x-python",
   "name": "python",
   "nbconvert_exporter": "python",
   "pygments_lexer": "ipython3",
   "version": "3.7.3"
  }
 },
 "nbformat": 4,
 "nbformat_minor": 2
}
