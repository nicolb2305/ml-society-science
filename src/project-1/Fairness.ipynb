{
 "cells": [
  {
   "cell_type": "markdown",
   "metadata": {},
   "source": [
    "# Fairness with respect to personal status and sex (Attribute 9)"
   ]
  },
  {
   "cell_type": "code",
   "execution_count": 1,
   "metadata": {},
   "outputs": [],
   "source": [
    "import pandas\n",
    "import numpy as np\n",
    "from sklearn.model_selection import train_test_split\n",
    "np.random.seed(0)"
   ]
  },
  {
   "cell_type": "code",
   "execution_count": 2,
   "metadata": {},
   "outputs": [],
   "source": [
    "features = ['checking account balance', 'duration', 'credit history',\n",
    "            'purpose', 'amount', 'savings', 'employment', 'installment',\n",
    "            'marital status', 'other debtors', 'residence time',\n",
    "            'property', 'age', 'other installments', 'housing', 'credits',\n",
    "            'job', 'persons', 'phone', 'foreign']\n",
    "target = 'repaid'\n",
    "df = pandas.read_csv('../../data/credit/german.data', sep=' ',\n",
    "                     names=features+[target])\n",
    "import matplotlib.pyplot as plt\n",
    "numerical_features = ['duration', 'age', 'residence time', 'installment', 'amount', 'duration', 'persons', 'credits']\n",
    "quantitative_features = list(filter(lambda x: x not in numerical_features, features))\n",
    "X = pandas.get_dummies(df, columns=quantitative_features, drop_first=True)\n",
    "encoded_features = list(filter(lambda x: x != target, X.columns))"
   ]
  },
  {
   "cell_type": "code",
   "execution_count": 3,
   "metadata": {},
   "outputs": [],
   "source": [
    "from nicolabk_kaiie_banker import Nicolabk_Kaiie_Banker"
   ]
  },
  {
   "cell_type": "code",
   "execution_count": 4,
   "metadata": {},
   "outputs": [],
   "source": [
    "banker = Nicolabk_Kaiie_Banker(0.005)"
   ]
  },
  {
   "cell_type": "code",
   "execution_count": 5,
   "metadata": {},
   "outputs": [],
   "source": [
    "X_train, X_test, y_train, y_test = train_test_split(X[encoded_features], X[target], test_size=0.2)\n",
    "banker.fit(X_train, y_train)"
   ]
  },
  {
   "cell_type": "code",
   "execution_count": 6,
   "metadata": {},
   "outputs": [
    {
     "name": "stdout",
     "output_type": "stream",
     "text": [
      "199\r"
     ]
    }
   ],
   "source": [
    "X_test_copy = X_test.copy()\n",
    "n_test_examples = 200\n",
    "loans = []\n",
    "X_test_copy['marital status_A92'] = 0\n",
    "X_test_copy['marital status_A93'] = 0\n",
    "X_test_copy['marital status_A94'] = 0\n",
    "for t in range(n_test_examples):\n",
    "    loans.append([])\n",
    "    loans[t].append(banker.get_best_action(X_test_copy.iloc[t]))\n",
    "    X_test_copy['marital status_A92'] = 1\n",
    "    loans[t].append(banker.get_best_action(X_test_copy.iloc[t]))\n",
    "    X_test_copy['marital status_A92'] = 0\n",
    "    X_test_copy['marital status_A93'] = 1\n",
    "    loans[t].append(banker.get_best_action(X_test_copy.iloc[t]))\n",
    "    X_test_copy['marital status_A93'] = 0\n",
    "    X_test_copy['marital status_A94'] = 1\n",
    "    loans[t].append(banker.get_best_action(X_test_copy.iloc[t]))\n",
    "    print(t, end=\"\\r\")"
   ]
  },
  {
   "cell_type": "code",
   "execution_count": 7,
   "metadata": {},
   "outputs": [],
   "source": [
    "equal = 0\n",
    "different = 0\n",
    "for lst in loans:\n",
    "    if lst[0] == lst[1] and lst[1] == lst[2] and lst[2] == lst[3]:\n",
    "        equal += 1\n",
    "    else:\n",
    "        different += 1"
   ]
  },
  {
   "cell_type": "code",
   "execution_count": 8,
   "metadata": {},
   "outputs": [
    {
     "name": "stdout",
     "output_type": "stream",
     "text": [
      "[70. 68. 72. 70.] [130. 132. 128. 130.]\n"
     ]
    }
   ],
   "source": [
    "i = 0\n",
    "P = np.zeros((4))\n",
    "for y in y_test:\n",
    "    for j in range(4):\n",
    "        if y == loans[i][j]:\n",
    "            P[j] += 1\n",
    "    i += 1\n",
    "print(P, 200-P)"
   ]
  },
  {
   "cell_type": "code",
   "execution_count": 9,
   "metadata": {},
   "outputs": [
    {
     "data": {
      "text/plain": [
       "array([0.35, 0.34, 0.36, 0.35])"
      ]
     },
     "execution_count": 9,
     "metadata": {},
     "output_type": "execute_result"
    }
   ],
   "source": [
    "P/200"
   ]
  },
  {
   "cell_type": "code",
   "execution_count": 10,
   "metadata": {},
   "outputs": [
    {
     "data": {
      "text/plain": [
       "0.007071067811865462"
      ]
     },
     "execution_count": 10,
     "metadata": {},
     "output_type": "execute_result"
    }
   ],
   "source": [
    "np.std(P/200)"
   ]
  },
  {
   "cell_type": "code",
   "execution_count": null,
   "metadata": {},
   "outputs": [],
   "source": []
  }
 ],
 "metadata": {
  "kernelspec": {
   "display_name": "Python 3",
   "language": "python",
   "name": "python3"
  },
  "language_info": {
   "codemirror_mode": {
    "name": "ipython",
    "version": 3
   },
   "file_extension": ".py",
   "mimetype": "text/x-python",
   "name": "python",
   "nbconvert_exporter": "python",
   "pygments_lexer": "ipython3",
   "version": "3.6.8"
  }
 },
 "nbformat": 4,
 "nbformat_minor": 2
}
